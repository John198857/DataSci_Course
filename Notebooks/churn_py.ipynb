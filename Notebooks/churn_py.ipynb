{
 "cells": [
  {
   "cell_type": "markdown",
   "metadata": {},
   "source": [
    "## Churn modeling\n",
    "\n",
    "### Introduction\n",
    "\n",
    "The term **churn** is used in marketing to refer to a customer leaving the company in favour of a competitor. Churning is a common concern of **Customer Relationship Management** (CRM). A key step in proactive churn management is to predict whether a customer is likely to churn, since an early detection of the potential churners helps to plan the retention campaigns.\n",
    "\n",
    "In this example, I develop a churn model, based on a **logistic regression equation**, for a company called *Omicron Mobile*, which provides mobile phone services. The data set is based on a random sample of 5,000 customers whose accounts were still alive by September 30, and have been monitored during the fourth quarter. 968 of those customers churned durin g the fourth quarter, which gives us a **churning rate** of 19.4%.\n",
    "\n",
    "The variables included in the data set are: \n",
    "\n",
    "* `id`, a customer ID (the phone number).\n",
    "\n",
    "* `aclentgh`, the number of days the account has been active at the beginning of the period monitored.\n",
    "\n",
    "* `intplan`, a dummy for having an international plan.\n",
    "\n",
    "* `dataplan`, a dummy for having a data plan.\n",
    "\n",
    "* `datagb`, the gigabytes available according to the data plan.\n",
    "\n",
    "* `ommin`, the total minutes call to any Omicron mobile phone number, voicemail or national landline.\n",
    "\n",
    "* `omcall`, the total number of calls to any Omicron mobile phone number, voicemail or national landline.\n",
    "\n",
    "* `otmin`, the total minutes call to other mobile networks.\n",
    "\n",
    "* `otcall`, the total number of calls to other networks.\n",
    "\n",
    "* `ngmin`, the total minutes call to nongeographic numbers. Nongeographic numbers, such as UK 0844 or 0871 numbers, are often helplines for organizations like banks, insurance companies, utilities and charities. \n",
    "\n",
    "* `ngcall`, the total number of calls to nongeographic numbers.\n",
    "\n",
    "* `imin`, the total minutes in international calls.\n",
    "\n",
    "* `icall`, the total international calls.\n",
    "\n",
    "* `cuscall`, the number of calls to customer service.\n",
    "\n",
    "* `churn`, a dummy for churning.\n",
    "\n",
    "All the data are from the third quarter except the last variable. \n",
    "\n",
    "### Importing the data\n",
    "\n",
    "The data come in a CSV file, which I import with the Pandas function `read_csv`, with an additional argument, `index_col=0`, for the first column to be used as the **index**."
   ]
  },
  {
   "cell_type": "code",
   "execution_count": 1,
   "metadata": {
    "collapsed": false
   },
   "outputs": [
    {
     "name": "stdout",
     "output_type": "stream",
     "text": [
      "<class 'pandas.core.frame.DataFrame'>\n",
      "Index: 5000 entries, 409-8978 to 444-8504\n",
      "Data columns (total 14 columns):\n",
      "aclength    5000 non-null int64\n",
      "intplan     5000 non-null int64\n",
      "dataplan    5000 non-null int64\n",
      "datagb      5000 non-null object\n",
      "ommin       5000 non-null float64\n",
      "omcall      5000 non-null int64\n",
      "otmin       5000 non-null float64\n",
      "otcall      5000 non-null int64\n",
      "ngmin       5000 non-null float64\n",
      "ngcall      5000 non-null int64\n",
      "imin        5000 non-null float64\n",
      "icall       5000 non-null int64\n",
      "cuscall     5000 non-null int64\n",
      "churn       5000 non-null int64\n",
      "dtypes: float64(4), int64(9), object(1)\n",
      "memory usage: 585.9+ KB\n"
     ]
    }
   ],
   "source": [
    "import pandas as pd\n",
    "churn = pd.read_csv('https://raw.githubusercontent.com/iese-bad/' +\n",
    "    'DataSci/master/Data/churn.csv', index_col=0)\n",
    "churn.info()"
   ]
  },
  {
   "cell_type": "code",
   "execution_count": 2,
   "metadata": {
    "collapsed": false
   },
   "outputs": [
    {
     "data": {
      "text/plain": [
       "Index(['409-8978', '444-7077', '401-9132', '409-2971', '431-5175', '375-5486',\n",
       "       '400-7151', '390-2169', '420-8569', '446-7327'],\n",
       "      dtype='object', name='id')"
      ]
     },
     "execution_count": 2,
     "metadata": {},
     "output_type": "execute_result"
    }
   ],
   "source": [
    "churn.index[0:10]"
   ]
  },
  {
   "cell_type": "markdown",
   "metadata": {},
   "source": [
    "### Checking redundancy\n",
    "\n",
    "Note that `datagb` takes value `0` when `dataplan` takes value `0`, so we have redundancy here, as illustrated by the table below. I will leave `dataplan` aside, as it is the same as one of the dummies that I will generate to enter `datagb` in the equation."
   ]
  },
  {
   "cell_type": "code",
   "execution_count": 3,
   "metadata": {
    "collapsed": false
   },
   "outputs": [
    {
     "name": "stdout",
     "output_type": "stream",
     "text": [
      "dataplan     0    1\n",
      "datagb             \n",
      "0         3449    0\n",
      "1.5G         0  522\n",
      "100M         0   74\n",
      "1G           0  410\n",
      "250M         0  168\n",
      "2G           0   86\n",
      "500M         0  291\n"
     ]
    }
   ],
   "source": [
    "print(pd.crosstab(churn['datagb'], churn['dataplan']))"
   ]
  },
  {
   "cell_type": "markdown",
   "metadata": {},
   "source": [
    "### Logistic regression model\n",
    "\n",
    "I first specify the left side of the equation."
   ]
  },
  {
   "cell_type": "code",
   "execution_count": 4,
   "metadata": {
    "collapsed": true
   },
   "outputs": [],
   "source": [
    "y = churn['churn']"
   ]
  },
  {
   "cell_type": "markdown",
   "metadata": {},
   "source": [
    "Since scikit-learn can only deal with numeric variables on the right side of the equation, I have to generate dummies for `datagb`, which is easily done with the Pandas function `get_dummies`."
   ]
  },
  {
   "cell_type": "code",
   "execution_count": 5,
   "metadata": {
    "collapsed": false
   },
   "outputs": [
    {
     "name": "stdout",
     "output_type": "stream",
     "text": [
      "          0  1.5G  100M  1G  250M  2G  500M\n",
      "id                                         \n",
      "409-8978  1     0     0   0     0   0     0\n",
      "444-7077  1     0     0   0     0   0     0\n",
      "401-9132  0     1     0   0     0   0     0\n",
      "409-2971  1     0     0   0     0   0     0\n",
      "431-5175  0     1     0   0     0   0     0\n"
     ]
    }
   ],
   "source": [
    "X1 = pd.get_dummies(churn['datagb'])\n",
    "print(X1.head())"
   ]
  },
  {
   "cell_type": "markdown",
   "metadata": {},
   "source": [
    "Next, I join this set of dummies with a data frame formed by the rest of the columns, with the Pandas function `concat`. The argument `axis=1` specifies that the two data frames are joined columnwise."
   ]
  },
  {
   "cell_type": "code",
   "execution_count": 6,
   "metadata": {
    "collapsed": false
   },
   "outputs": [
    {
     "name": "stdout",
     "output_type": "stream",
     "text": [
      "          0  1.5G  100M  1G  250M  2G  500M  aclength  intplan  ommin  omcall  \\\n",
      "id                                                                              \n",
      "409-8978  1     0     0   0     0   0     0        77        0   80.8      70   \n",
      "444-7077  1     0     0   0     0   0     0       105        0  131.8      66   \n",
      "401-9132  0     1     0   0     0   0     0       121        0  212.1      57   \n",
      "409-2971  1     0     0   0     0   0     0       115        0  186.1      64   \n",
      "431-5175  0     1     0   0     0   0     0       133        0  166.5      61   \n",
      "\n",
      "          otmin  otcall  ngmin  ngcall  imin  icall  cuscall  \n",
      "id                                                            \n",
      "409-8978  165.9      67   18.6       6   9.5      4        1  \n",
      "444-7077  131.7     105    5.1       6   6.7      2        0  \n",
      "401-9132  195.4     140   14.9      14  28.6      8        1  \n",
      "409-2971  230.9     125   26.5      16   9.9      4        1  \n",
      "431-5175  176.0      74   36.1      11   5.3      2        1  \n"
     ]
    }
   ],
   "source": [
    "X2 = churn[['aclength', 'intplan', 'ommin', 'omcall',\n",
    "  'otmin', 'otcall', 'ngmin', 'ngcall', 'imin', 'icall', 'cuscall']]\n",
    "X = pd.concat([X1, X2], axis=1)\n",
    "print(X.head())"
   ]
  },
  {
   "cell_type": "markdown",
   "metadata": {},
   "source": [
    "The package scikit-learn has a module called `linear_model`, with various regression methods. We load only the method `LogisticRegression`, which I name `LOGIS`, to make it shorter."
   ]
  },
  {
   "cell_type": "code",
   "execution_count": 7,
   "metadata": {
    "collapsed": false
   },
   "outputs": [
    {
     "data": {
      "text/plain": [
       "LogisticRegression(C=1.0, class_weight=None, dual=False, fit_intercept=True,\n",
       "          intercept_scaling=1, max_iter=100, multi_class='ovr', n_jobs=1,\n",
       "          penalty='l2', random_state=None, solver='liblinear', tol=0.0001,\n",
       "          verbose=0, warm_start=False)"
      ]
     },
     "execution_count": 7,
     "metadata": {},
     "output_type": "execute_result"
    }
   ],
   "source": [
    "from sklearn.linear_model import LogisticRegression\n",
    "LOGIS = LogisticRegression()\n",
    "LOGIS.fit(X, y)"
   ]
  },
  {
   "cell_type": "markdown",
   "metadata": {},
   "source": [
    "### Predictive scores\n",
    "\n",
    "The function `predict`, which I already used for the linear regression model, returns **class labels** (1/0), which is not what we are interested in. To get the **scores**, I use `predict_proba`, which returns an array with two columns, a score for class 1 and score for class 0, summing 1."
   ]
  },
  {
   "cell_type": "code",
   "execution_count": 8,
   "metadata": {
    "collapsed": false
   },
   "outputs": [
    {
     "data": {
      "text/plain": [
       "array([[0.94699157, 0.05300843],\n",
       "       [0.9658993 , 0.0341007 ],\n",
       "       [0.74646309, 0.25353691],\n",
       "       [0.87223305, 0.12776695],\n",
       "       [0.92641675, 0.07358325]])"
      ]
     },
     "execution_count": 8,
     "metadata": {},
     "output_type": "execute_result"
    }
   ],
   "source": [
    "scores = LOGIS.predict_proba(X)\n",
    "scores[0:5, 0:5]"
   ]
  },
  {
   "cell_type": "markdown",
   "metadata": {},
   "source": [
    "For plotting, I transform the first column of `scores` into a `pandas.Series`. "
   ]
  },
  {
   "cell_type": "code",
   "execution_count": 9,
   "metadata": {
    "collapsed": false
   },
   "outputs": [
    {
     "data": {
      "text/plain": [
       "id\n",
       "409-8978    0.053008\n",
       "444-7077    0.034101\n",
       "401-9132    0.253537\n",
       "409-2971    0.127767\n",
       "431-5175    0.073583\n",
       "dtype: float64"
      ]
     },
     "execution_count": 9,
     "metadata": {},
     "output_type": "execute_result"
    }
   ],
   "source": [
    "score = pd.Series(scores[:, 1])\n",
    "score.index = churn.index\n",
    "score.head()"
   ]
  },
  {
   "cell_type": "markdown",
   "metadata": {},
   "source": [
    "The predictive score can be interpreted as the propensity to churn. Reading it so, it would be natural to set the **cutoff** for classification at 0.5. But taking a look at the distribution of the scores can suggest otherwise. In particular, it is interesting to examine the distribution separately in the churners and the non-churners. I start with the churners (Figure 1). "
   ]
  },
  {
   "cell_type": "code",
   "execution_count": 10,
   "metadata": {
    "collapsed": false
   },
   "outputs": [
    {
     "data": {
      "text/plain": [
       "<matplotlib.text.Text at 0x11e300ef0>"
      ]
     },
     "execution_count": 10,
     "metadata": {},
     "output_type": "execute_result"
    },
    {
     "data": {
      "image/png": "[encoded data removed]",
      "text/plain": [
       "<matplotlib.figure.Figure at 0x11e222240>"
      ]
     },
     "metadata": {},
     "output_type": "display_data"
    }
   ],
   "source": [
    "%matplotlib inline\n",
    "import matplotlib.pyplot as plt\n",
    "plt.figure(1, figsize=(6,6))\n",
    "plt.hist(score[churn['churn']==1], bins=20, range=(0,1), color='0.7')\n",
    "plt.title('Figure 1. Scores (churners)')\n",
    "plt.xlabel('Churn score')\n",
    "plt.ylabel('Frequency')"
   ]
  },
  {
   "cell_type": "markdown",
   "metadata": {},
   "source": [
    "Note that I have controlled the **number of bins** with the arguments `bins=20`, `range=(0,1)`. This creates a partition into intervals of length 0.05, which works fine here. I repeat the exercise for the non-churners (Figure 2)."
   ]
  },
  {
   "cell_type": "code",
   "execution_count": 11,
   "metadata": {
    "collapsed": false
   },
   "outputs": [
    {
     "data": {
      "text/plain": [
       "<matplotlib.text.Text at 0x11e4454e0>"
      ]
     },
     "execution_count": 11,
     "metadata": {},
     "output_type": "execute_result"
    },
    {
     "data": {
      "image/png": "[encoded data removed]",
      "text/plain": [
       "<matplotlib.figure.Figure at 0x11a6480f0>"
      ]
     },
     "metadata": {},
     "output_type": "display_data"
    }
   ],
   "source": [
    "plt.figure(1, figsize=(6,6))\n",
    "plt.hist(score[churn['churn']==0], bins=20, range=(0,1), color='0.7')\n",
    "plt.title('Figure 2. Scores (non-churners)')\n",
    "plt.xlabel('Churn score')\n",
    "plt.ylabel('Frequency')"
   ]
  },
  {
   "cell_type": "markdown",
   "metadata": {},
   "source": [
    "### Confusion matrix\n",
    "\n",
    "The **confusion matrix** is a 2-way table which can be obtained with the `pandas` function `crosstab`. Note that the vector first specified comes in the rows. I start setting the cutoff at 0.5. Taking a look at the above histograms could tell us in advance what we are going to find. In Figure 1, classifying as churners only those customers with score higher than 0.5 will leave out more than one half of the actual churners, which, from a business perspective, looks like a poor job. In compensation, we see in Figure 2 than the vast majority of the non-churners will be classified in the right way. This is, indeed, what the confusion matrix shows."
   ]
  },
  {
   "cell_type": "code",
   "execution_count": 12,
   "metadata": {
    "collapsed": false
   },
   "outputs": [
    {
     "name": "stdout",
     "output_type": "stream",
     "text": [
      "churn  False  True \n",
      "row_0              \n",
      "False   3895    662\n",
      "True     137    306\n"
     ]
    }
   ],
   "source": [
    "conf1 = pd.crosstab(score > 0.5, churn['churn'] == 1)\n",
    "print(conf1)"
   ]
  },
  {
   "cell_type": "markdown",
   "metadata": {},
   "source": [
    "The **true positive (TP) rate** and the **false positive (FP) rate** allow us to be more specific. Here, the FP rate is pretty low, but the TP rate shows that a cutoff so high does not capture enough potential churners. "
   ]
  },
  {
   "cell_type": "code",
   "execution_count": 13,
   "metadata": {
    "collapsed": false
   },
   "outputs": [
    {
     "data": {
      "text/plain": [
       "0.316"
      ]
     },
     "execution_count": 13,
     "metadata": {},
     "output_type": "execute_result"
    }
   ],
   "source": [
    "tp1 = conf1.iloc[1, 1]/(conf1.iloc[0, 1] + conf1.iloc[1, 1])\n",
    "tp1.round(3)"
   ]
  },
  {
   "cell_type": "code",
   "execution_count": 14,
   "metadata": {
    "collapsed": false
   },
   "outputs": [
    {
     "data": {
      "text/plain": [
       "0.034"
      ]
     },
     "execution_count": 14,
     "metadata": {},
     "output_type": "execute_result"
    }
   ],
   "source": [
    "fp1 = conf1.iloc[1, 0]/(conf1.iloc[0, 0] + conf1.iloc[1, 0])\n",
    "fp1.round(3)"
   ]
  },
  {
   "cell_type": "markdown",
   "metadata": {},
   "source": [
    "I set now the cutoff at 0.2. Again, we can guess what will happen from the histograms, but the TP and FP rates allow us to be more specific. "
   ]
  },
  {
   "cell_type": "code",
   "execution_count": 15,
   "metadata": {
    "collapsed": false
   },
   "outputs": [
    {
     "name": "stdout",
     "output_type": "stream",
     "text": [
      "churn  False  True \n",
      "row_0              \n",
      "False   3181    342\n",
      "True     851    626\n"
     ]
    }
   ],
   "source": [
    "conf2 = pd.crosstab(score > 0.2, churn['churn'] == 1)\n",
    "print(conf2)"
   ]
  },
  {
   "cell_type": "code",
   "execution_count": 16,
   "metadata": {
    "collapsed": false
   },
   "outputs": [
    {
     "data": {
      "text/plain": [
       "0.647"
      ]
     },
     "execution_count": 16,
     "metadata": {},
     "output_type": "execute_result"
    }
   ],
   "source": [
    "tp2 = conf2.iloc[1, 1]/(conf2.iloc[0, 1] + conf2.iloc[1, 1])\n",
    "tp2.round(3)"
   ]
  },
  {
   "cell_type": "code",
   "execution_count": 17,
   "metadata": {
    "collapsed": false
   },
   "outputs": [
    {
     "data": {
      "text/plain": [
       "0.211"
      ]
     },
     "execution_count": 17,
     "metadata": {},
     "output_type": "execute_result"
    }
   ],
   "source": [
    "fp2 = conf2.iloc[1, 0]/(conf2.iloc[0, 0] + conf2.iloc[1, 0])\n",
    "fp2.round(3)"
   ]
  },
  {
   "cell_type": "markdown",
   "metadata": {},
   "source": [
    "Now the results look more acceptable. Nevertheless, in a business application, a **cost/benefit analysis** would be the right way to decide how useful this model could be. I leave this for the homework."
   ]
  }
 ],
 "metadata": {
  "kernelspec": {
   "display_name": "Python 3",
   "language": "python",
   "name": "python3"
  },
  "language_info": {
   "codemirror_mode": {
    "name": "ipython",
    "version": 3
   },
   "file_extension": ".py",
   "mimetype": "text/x-python",
   "name": "python",
   "nbconvert_exporter": "python",
   "pygments_lexer": "ipython3",
   "version": "3.6.6"
  }
 },
 "nbformat": 4,
 "nbformat_minor": 2
}
