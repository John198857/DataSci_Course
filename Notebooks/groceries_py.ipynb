{
 "cells": [
  {
   "cell_type": "markdown",
   "metadata": {},
   "source": [
    "## Market basket analysis at the grocery outlet\n",
    "\n",
    "### Introduction\n",
    "\n",
    "**Market basket analysis** tells us which products tend to be purchased together and which are most amenable to promotion. This information is actionable: it can suggest new store layouts, determine which articles to put on special, indicate when to issue coupons, and so on. When these data can be tied to individual customers through a loyalty card or website registration, they become even more valuable. The application of **association rules** to market basket analysis is a classic of data mining. \n",
    "\n",
    "In this example, a Chicago-based marketing analyst focusing on the retail industry explores different approaches for modeling consumer behavior using data on **point-of-sale transactions** in small stores of the Chicago metropolitan area. She starts with a market basket analysis of data from a typical local grocery outlet, where she intends to identify **joint occurrence** of products in shopping baskets.\n",
    "\n",
    "### The data set\n",
    "\n",
    "The `groceries` data set covers one month of point-of-sale **transaction data**. It contains 9,835 transactions and the items are aggregated to 169 categories. The data come as a **matrix transaction/item**: an entry equal to 1 in the intersection of row `i` and column `j` indicates that transaction `i` includes item `j`. \n",
    "\n",
    "I start by loading the data in the usual way."
   ]
  },
  {
   "cell_type": "code",
   "execution_count": 1,
   "metadata": {
    "collapsed": false
   },
   "outputs": [
    {
     "data": {
      "text/plain": [
       "(9835, 169)"
      ]
     },
     "execution_count": 1,
     "metadata": {},
     "output_type": "execute_result"
    }
   ],
   "source": [
    "import pandas as pd\n",
    "groceries = pd.read_csv('https://raw.githubusercontent.com/iese-bad/' +\n",
    "    'DataSci/master/Data/groceries.csv')\n",
    "groceries.shape"
   ]
  },
  {
   "cell_type": "code",
   "execution_count": 2,
   "metadata": {
    "collapsed": false
   },
   "outputs": [
    {
     "name": "stdout",
     "output_type": "stream",
     "text": [
      "   frankfurter  sausage  liver_loaf  ham  meat  finished_products\n",
      "0            0        0           0    0     0                  0\n",
      "1            0        0           0    0     0                  0\n",
      "2            0        0           0    0     0                  0\n",
      "3            0        0           0    0     0                  0\n",
      "4            0        0           0    0     0                  0\n",
      "5            0        0           0    0     0                  0\n",
      "6            0        0           0    0     0                  0\n",
      "7            0        0           0    0     0                  0\n",
      "8            0        0           0    0     0                  0\n",
      "9            0        0           0    0     0                  0\n"
     ]
    }
   ],
   "source": [
    "print(groceries.iloc[:10, :6])"
   ]
  },
  {
   "cell_type": "markdown",
   "metadata": {},
   "source": [
    "Note the **sparsity** of the data: there are only 43,367 nonzero entries, out of the 1,662,115 terms of this matrix (2.6%). So, this is an inefficient way of transporting the data, even if it can be used in this example to keep it simple."
   ]
  },
  {
   "cell_type": "code",
   "execution_count": 3,
   "metadata": {
    "collapsed": false
   },
   "outputs": [
    {
     "data": {
      "text/plain": [
       "1662115"
      ]
     },
     "execution_count": 3,
     "metadata": {},
     "output_type": "execute_result"
    }
   ],
   "source": [
    "groceries.shape[0]*groceries.shape[1]"
   ]
  },
  {
   "cell_type": "code",
   "execution_count": 4,
   "metadata": {
    "collapsed": false
   },
   "outputs": [
    {
     "data": {
      "text/plain": [
       "43367"
      ]
     },
     "execution_count": 4,
     "metadata": {},
     "output_type": "execute_result"
    }
   ],
   "source": [
    "groceries.sum().sum()"
   ]
  },
  {
   "cell_type": "markdown",
   "metadata": {},
   "source": [
    "The analysis of this example uses functions taken from the Python package `mextend`, developed as a reinforcement to scikit-learn. It comes in two steps: (a) extracting the most frequent itemsets, and (b) selecting association rules by support and confidence. We do not always find these two steps separated in data science software applications, but they are so in this package.\n",
    "\n",
    "### Mining itemsets\n",
    "\n",
    "For the frequent itemsets, we load the function `apriori`."
   ]
  },
  {
   "cell_type": "code",
   "execution_count": 5,
   "metadata": {
    "collapsed": true
   },
   "outputs": [],
   "source": [
    "from mlxtend.frequent_patterns import apriori"
   ]
  },
  {
   "cell_type": "markdown",
   "metadata": {},
   "source": [
    "What frequent itemset means depends on the particular data set. In this example, after some exploration (not reported), I set the **minimim support** to 0.01, which makes enough room for examination."
   ]
  },
  {
   "cell_type": "code",
   "execution_count": 6,
   "metadata": {
    "collapsed": false
   },
   "outputs": [
    {
     "name": "stdout",
     "output_type": "stream",
     "text": [
      "<class 'pandas.core.frame.DataFrame'>\n",
      "RangeIndex: 333 entries, 0 to 332\n",
      "Data columns (total 2 columns):\n",
      "support     333 non-null float64\n",
      "itemsets    333 non-null object\n",
      "dtypes: float64(1), object(1)\n",
      "memory usage: 5.3+ KB\n"
     ]
    }
   ],
   "source": [
    "frequent_itemsets = apriori(groceries, min_support=0.01, use_colnames=True)\n",
    "frequent_itemsets.info()"
   ]
  },
  {
   "cell_type": "markdown",
   "metadata": {},
   "source": [
    "The function `apriori` returns a data frame with two columns, the support and the itemset. "
   ]
  },
  {
   "cell_type": "code",
   "execution_count": 7,
   "metadata": {
    "collapsed": false
   },
   "outputs": [
    {
     "name": "stdout",
     "output_type": "stream",
     "text": [
      "    support       itemsets\n",
      "0  0.058973  (frankfurter)\n",
      "1  0.093950      (sausage)\n",
      "2  0.026029          (ham)\n",
      "3  0.025826         (meat)\n",
      "4  0.042908      (chicken)\n"
     ]
    }
   ],
   "source": [
    "print(frequent_itemsets.head())"
   ]
  },
  {
   "cell_type": "markdown",
   "metadata": {},
   "source": [
    "The terms of the column `itemsets` are (frozen) sets. The frozen set is an immutable version of a Python set object. While elements of a set can be modified at any time, elements of a frozen set remain the same after creation."
   ]
  },
  {
   "cell_type": "code",
   "execution_count": 8,
   "metadata": {
    "collapsed": false
   },
   "outputs": [
    {
     "data": {
      "text/plain": [
       "frozenset({'frankfurter'})"
      ]
     },
     "execution_count": 8,
     "metadata": {},
     "output_type": "execute_result"
    }
   ],
   "source": [
    "frequent_itemsets.itemsets[0]"
   ]
  },
  {
   "cell_type": "markdown",
   "metadata": {},
   "source": [
    "I add the length of the itemsets, which will allow me to filter itemsets by legth, having a clearer picture. The method `apply` is used to apply a function term by term to a column of a data frame. Here, I use the function `len`, which returns the number of elements of a set. `apply` is typically used in combination with **lambda functions**, that is, functions which are defined on the fly, not named, and forgotten after execution."
   ]
  },
  {
   "cell_type": "code",
   "execution_count": 9,
   "metadata": {
    "collapsed": false
   },
   "outputs": [
    {
     "name": "stdout",
     "output_type": "stream",
     "text": [
      "    support       itemsets  length\n",
      "0  0.058973  (frankfurter)       1\n",
      "1  0.093950      (sausage)       1\n",
      "2  0.026029          (ham)       1\n",
      "3  0.025826         (meat)       1\n",
      "4  0.042908      (chicken)       1\n"
     ]
    }
   ],
   "source": [
    "frequent_itemsets['length'] = frequent_itemsets['itemsets'].apply(lambda x: len(x))\n",
    "print(frequent_itemsets.head())"
   ]
  },
  {
   "cell_type": "markdown",
   "metadata": {},
   "source": [
    "I pick first the itemsets of size 1. We do not need them for describing the association rules, but they help us to understand the concepts. The method `sort_values` allows for sorting the rows of a data frame based on a column. `ascending=0` means 'descending'."
   ]
  },
  {
   "cell_type": "code",
   "execution_count": 10,
   "metadata": {
    "collapsed": false
   },
   "outputs": [
    {
     "name": "stdout",
     "output_type": "stream",
     "text": [
      "     support                 itemsets  length\n",
      "18  0.255516             (whole_milk)       1\n",
      "16  0.193493       (other_vegetables)       1\n",
      "40  0.183935             (rolls_buns)       1\n",
      "60  0.174377                   (soda)       1\n",
      "23  0.139502                 (yogurt)       1\n",
      "59  0.110524          (bottled_water)       1\n",
      "13  0.108998        (root_vegetables)       1\n",
      "9   0.104931         (tropical_fruit)       1\n",
      "87  0.098526          (shopping_bags)       1\n",
      "1   0.093950                (sausage)       1\n",
      "43  0.088968                 (pastry)       1\n",
      "8   0.082766           (citrus_fruit)       1\n",
      "63  0.080529           (bottled_beer)       1\n",
      "84  0.079817             (newspapers)       1\n",
      "64  0.077682            (canned_beer)       1\n",
      "10  0.075648              (pip_fruit)       1\n",
      "62  0.072293  (fruit_vegetable_juice)       1\n",
      "24  0.071683     (whipped_sour_cream)       1\n",
      "42  0.064870            (brown_bread)       1\n",
      "39  0.063447          (domestic_eggs)       1\n"
     ]
    }
   ],
   "source": [
    "item1 = frequent_itemsets[frequent_itemsets['length'] == 1]\n",
    "print(item1.sort_values('support', ascending=0)[:20])"
   ]
  },
  {
   "cell_type": "markdown",
   "metadata": {},
   "source": [
    "Setting the length to 2, I pick a second part of the collection of frequent itemsets."
   ]
  },
  {
   "cell_type": "code",
   "execution_count": 11,
   "metadata": {
    "collapsed": false
   },
   "outputs": [
    {
     "name": "stdout",
     "output_type": "stream",
     "text": [
      "      support                             itemsets  length\n",
      "184  0.074835       (other_vegetables, whole_milk)       2\n",
      "223  0.056634             (rolls_buns, whole_milk)       2\n",
      "216  0.056024                 (yogurt, whole_milk)       2\n",
      "166  0.048907        (whole_milk, root_vegetables)       2\n",
      "165  0.047382  (other_vegetables, root_vegetables)       2\n",
      "189  0.043416           (yogurt, other_vegetables)       2\n",
      "194  0.042603       (rolls_buns, other_vegetables)       2\n",
      "140  0.042298         (tropical_fruit, whole_milk)       2\n",
      "232  0.040061                   (whole_milk, soda)       2\n",
      "273  0.038332                   (rolls_buns, soda)       2\n",
      "139  0.035892   (tropical_fruit, other_vegetables)       2\n",
      "231  0.034367          (bottled_water, whole_milk)       2\n",
      "253  0.034367                 (yogurt, rolls_buns)       2\n",
      "226  0.033249                 (whole_milk, pastry)       2\n",
      "202  0.032740             (other_vegetables, soda)       2\n",
      "217  0.032232     (whipped_sour_cream, whole_milk)       2\n",
      "102  0.030605                (rolls_buns, sausage)       2\n",
      "129  0.030503           (citrus_fruit, whole_milk)       2\n",
      "156  0.030097              (whole_milk, pip_fruit)       2\n",
      "222  0.029995          (domestic_eggs, whole_milk)       2\n"
     ]
    }
   ],
   "source": [
    "item2 = frequent_itemsets[frequent_itemsets['length'] == 2]\n",
    "print(item2.sort_values('support', ascending=0)[:20])"
   ]
  },
  {
   "cell_type": "markdown",
   "metadata": {},
   "source": [
    "Finally, setting the length to 3, I get a third list."
   ]
  },
  {
   "cell_type": "code",
   "execution_count": 12,
   "metadata": {
    "collapsed": false
   },
   "outputs": [
    {
     "name": "stdout",
     "output_type": "stream",
     "text": [
      "      support                                           itemsets  length\n",
      "313  0.023183    (other_vegetables, whole_milk, root_vegetables)       3\n",
      "319  0.022267             (yogurt, other_vegetables, whole_milk)       3\n",
      "322  0.017895         (rolls_buns, other_vegetables, whole_milk)       3\n",
      "308  0.017082     (tropical_fruit, other_vegetables, whole_milk)       3\n",
      "331  0.015557                   (yogurt, rolls_buns, whole_milk)       3\n",
      "310  0.015150               (yogurt, tropical_fruit, whole_milk)       3\n",
      "320  0.014642  (whipped_sour_cream, other_vegetables, whole_m...       3\n",
      "316  0.014540              (yogurt, whole_milk, root_vegetables)       3\n",
      "325  0.013930               (other_vegetables, whole_milk, soda)       3\n",
      "312  0.013523          (other_vegetables, whole_milk, pip_fruit)       3\n",
      "304  0.013015       (citrus_fruit, other_vegetables, whole_milk)       3\n",
      "314  0.012913        (yogurt, other_vegetables, root_vegetables)       3\n",
      "317  0.012710          (rolls_buns, whole_milk, root_vegetables)       3\n",
      "309  0.012303         (yogurt, tropical_fruit, other_vegetables)       3\n",
      "306  0.012303  (tropical_fruit, other_vegetables, root_vegeta...       3\n",
      "321  0.012303      (other_vegetables, domestic_eggs, whole_milk)       3\n",
      "315  0.012201    (rolls_buns, other_vegetables, root_vegetables)       3\n",
      "307  0.011998      (tropical_fruit, whole_milk, root_vegetables)       3\n",
      "328  0.011490             (yogurt, rolls_buns, other_vegetables)       3\n",
      "318  0.011490             (other_vegetables, butter, whole_milk)       3\n"
     ]
    }
   ],
   "source": [
    "item3 = frequent_itemsets[frequent_itemsets['length'] == 3]\n",
    "print(item3.sort_values('support', ascending=0)[:20])"
   ]
  },
  {
   "cell_type": "markdown",
   "metadata": {},
   "source": [
    "For mining association rules, I use the function `association_rules`. I use the **confidence** for selecting the more relevant rules, setting the threshold to 0.4. You may find in the literature examples with much higher thresholds, but we cannot be so strict in this case."
   ]
  },
  {
   "cell_type": "code",
   "execution_count": 13,
   "metadata": {
    "collapsed": true
   },
   "outputs": [],
   "source": [
    "from mlxtend.frequent_patterns import association_rules\n",
    "rules = association_rules(frequent_itemsets, metric=\"confidence\", min_threshold=0.4)"
   ]
  },
  {
   "cell_type": "markdown",
   "metadata": {},
   "source": [
    "Finally, I arrange things so my presentation of the rules looks nicer."
   ]
  },
  {
   "cell_type": "code",
   "execution_count": 14,
   "metadata": {
    "collapsed": false
   },
   "outputs": [
    {
     "name": "stdout",
     "output_type": "stream",
     "text": [
      "                                  antecedents         consequents   support  \\\n",
      "27            (citrus_fruit, root_vegetables)  (other_vegetables)  0.010371   \n",
      "31          (tropical_fruit, root_vegetables)  (other_vegetables)  0.012303   \n",
      "59                             (yogurt, curd)        (whole_milk)  0.010066   \n",
      "46                 (other_vegetables, butter)        (whole_milk)  0.011490   \n",
      "32          (tropical_fruit, root_vegetables)        (whole_milk)  0.011998   \n",
      "44                  (yogurt, root_vegetables)        (whole_milk)  0.014540   \n",
      "51          (domestic_eggs, other_vegetables)        (whole_milk)  0.012303   \n",
      "60               (yogurt, whipped_sour_cream)        (whole_milk)  0.010880   \n",
      "45              (rolls_buns, root_vegetables)        (whole_milk)  0.012710   \n",
      "38              (other_vegetables, pip_fruit)        (whole_milk)  0.013523   \n",
      "36                   (yogurt, tropical_fruit)        (whole_milk)  0.015150   \n",
      "48                 (yogurt, other_vegetables)        (whole_milk)  0.022267   \n",
      "49     (other_vegetables, whipped_sour_cream)        (whole_milk)  0.014642   \n",
      "43              (rolls_buns, root_vegetables)  (other_vegetables)  0.012201   \n",
      "42                  (yogurt, root_vegetables)  (other_vegetables)  0.012913   \n",
      "57  (fruit_vegetable_juice, other_vegetables)        (whole_milk)  0.010473   \n",
      "11                                   (butter)        (whole_milk)  0.027555   \n",
      "12                                     (curd)        (whole_milk)  0.026131   \n",
      "58               (yogurt, whipped_sour_cream)  (other_vegetables)  0.010168   \n",
      "40        (other_vegetables, root_vegetables)        (whole_milk)  0.023183   \n",
      "\n",
      "    confidence      lift  \n",
      "27    0.586207  3.029608  \n",
      "31    0.584541  3.020999  \n",
      "59    0.582353  2.279125  \n",
      "46    0.573604  2.244885  \n",
      "32    0.570048  2.230969  \n",
      "44    0.562992  2.203354  \n",
      "51    0.552511  2.162336  \n",
      "60    0.524510  2.052747  \n",
      "45    0.523013  2.046888  \n",
      "38    0.517510  2.025351  \n",
      "36    0.517361  2.024770  \n",
      "48    0.512881  2.007235  \n",
      "49    0.507042  1.984385  \n",
      "43    0.502092  2.594890  \n",
      "42    0.500000  2.584078  \n",
      "57    0.497585  1.947371  \n",
      "11    0.497248  1.946053  \n",
      "12    0.490458  1.919481  \n",
      "58    0.490196  2.533410  \n",
      "40    0.489270  1.914833  \n"
     ]
    }
   ],
   "source": [
    "rules = rules.sort_values('confidence', ascending=0)[0:20]\n",
    "print(rules[['antecedents', 'consequents', 'support', 'confidence', 'lift']])"
   ]
  }
 ],
 "metadata": {
  "kernelspec": {
   "display_name": "Python 3",
   "language": "python",
   "name": "python3"
  },
  "language_info": {
   "codemirror_mode": {
    "name": "ipython",
    "version": 3
   },
   "file_extension": ".py",
   "mimetype": "text/x-python",
   "name": "python",
   "nbconvert_exporter": "python",
   "pygments_lexer": "ipython3",
   "version": "3.6.6"
  }
 },
 "nbformat": 4,
 "nbformat_minor": 2
}
