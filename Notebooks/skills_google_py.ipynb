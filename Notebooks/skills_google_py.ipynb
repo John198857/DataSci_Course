{
 "cells": [
  {
   "cell_type": "markdown",
   "metadata": {},
   "source": [
    "## Skills requested in Google job posts\n",
    "\n",
    "### Introduction\n",
    "\n",
    "Which **language, skills, and experience** should we add to our toolbox for getting a job in Google? Google publishes all of their jobs at `careers.google.com`. Niyamat Ullah scraped all of the job data from that site by going every job page using a tool called **Selenium**, taking only the job title, location, responsibilities, minimum and preferred qualifications.\n",
    "\n",
    "The data set, posted in the Kaggle site, contains posts for 1,250 jobs. The variables are:\n",
    "\n",
    "* `company`: either Google or Youtube.\n",
    "\n",
    "* `title`: the title of the job.\n",
    "\n",
    "* `category`: the category of the job.\n",
    "\n",
    "* `location`: The location of the job.\n",
    "\n",
    "* `responsibilities`: the responsibilities for the job.\n",
    "\n",
    "* `minqual`: minimum qualifications for the job.\n",
    "\n",
    "* `prefqual`: preferred qualifications for the job.\n",
    "\n",
    "### Importing the data\n",
    "\n",
    "I load the CSV file that contains the data. The encoding is typically specified for files that contain text, to prevent problems with systems that do not use UTF-8 (Windows). This is probably not needed here, but it may save trouble in other cases."
   ]
  },
  {
   "cell_type": "code",
   "execution_count": 1,
   "metadata": {
    "collapsed": true
   },
   "outputs": [],
   "source": [
    "import pandas as pd\n",
    "google = pd.read_csv('https://raw.githubusercontent.com/iese-bad/' +\n",
    "    'DataSci/master/Data/skills_google.csv', encoding='utf_8')"
   ]
  },
  {
   "cell_type": "markdown",
   "metadata": {},
   "source": [
    "As usual, I check that the content of the file is what I expect. "
   ]
  },
  {
   "cell_type": "code",
   "execution_count": 2,
   "metadata": {
    "collapsed": false
   },
   "outputs": [
    {
     "name": "stdout",
     "output_type": "stream",
     "text": [
      "<class 'pandas.core.frame.DataFrame'>\n",
      "RangeIndex: 1250 entries, 0 to 1249\n",
      "Data columns (total 7 columns):\n",
      "company             1250 non-null object\n",
      "title               1250 non-null object\n",
      "category            1250 non-null object\n",
      "location            1250 non-null object\n",
      "responsibilities    1235 non-null object\n",
      "minqual             1236 non-null object\n",
      "prefqual            1236 non-null object\n",
      "dtypes: object(7)\n",
      "memory usage: 68.4+ KB\n"
     ]
    }
   ],
   "source": [
    "google.info()"
   ]
  },
  {
   "cell_type": "markdown",
   "metadata": {},
   "source": [
    "### Exploring the company\n",
    "\n",
    "I start my exploratory analysis by the company, which, in most of the jobs, is Google."
   ]
  },
  {
   "cell_type": "code",
   "execution_count": 3,
   "metadata": {
    "collapsed": false
   },
   "outputs": [
    {
     "data": {
      "text/plain": [
       "Google     1227\n",
       "YouTube      23\n",
       "Name: company, dtype: int64"
      ]
     },
     "execution_count": 3,
     "metadata": {},
     "output_type": "execute_result"
    }
   ],
   "source": [
    "google['company'].value_counts()"
   ]
  },
  {
   "cell_type": "markdown",
   "metadata": {},
   "source": [
    "### Exploring the job titles\n",
    "\n",
    "Many different job titles are included in the data set. I extract the top-10 titles."
   ]
  },
  {
   "cell_type": "code",
   "execution_count": 4,
   "metadata": {
    "collapsed": false
   },
   "outputs": [
    {
     "data": {
      "text/plain": [
       "(794,)"
      ]
     },
     "execution_count": 4,
     "metadata": {},
     "output_type": "execute_result"
    }
   ],
   "source": [
    "title = google['title']\n",
    "title.unique().shape"
   ]
  },
  {
   "cell_type": "code",
   "execution_count": 5,
   "metadata": {
    "collapsed": false
   },
   "outputs": [
    {
     "data": {
      "text/plain": [
       "Business Intern 2018                          35\n",
       "MBA Intern, Summer 2018                       34\n",
       "MBA Intern 2018                               28\n",
       "BOLD Intern, Summer 2018                      21\n",
       "Field Sales Representative, Google Cloud      17\n",
       "Interaction Designer                          12\n",
       "User Experience Researcher                     9\n",
       "Partner Sales Engineer, Google Cloud           7\n",
       "User Experience Design Intern, Summer 2018     7\n",
       "Recruiter                                      7\n",
       "Name: title, dtype: int64"
      ]
     },
     "execution_count": 5,
     "metadata": {},
     "output_type": "execute_result"
    }
   ],
   "source": [
    "title.value_counts()[0:10]"
   ]
  },
  {
   "cell_type": "markdown",
   "metadata": {},
   "source": [
    "The interns seems to dominate the picture, but, with 794 different titles, this quick view could be misleading. So, I check other possibilities. "
   ]
  },
  {
   "cell_type": "code",
   "execution_count": 6,
   "metadata": {
    "collapsed": false
   },
   "outputs": [
    {
     "data": {
      "text/plain": [
       "187"
      ]
     },
     "execution_count": 6,
     "metadata": {},
     "output_type": "execute_result"
    }
   ],
   "source": [
    "title.str.contains('Intern').sum()"
   ]
  },
  {
   "cell_type": "code",
   "execution_count": 7,
   "metadata": {
    "collapsed": false
   },
   "outputs": [
    {
     "data": {
      "text/plain": [
       "135"
      ]
     },
     "execution_count": 7,
     "metadata": {},
     "output_type": "execute_result"
    }
   ],
   "source": [
    "title.str.contains('Sales').sum()"
   ]
  },
  {
   "cell_type": "code",
   "execution_count": 8,
   "metadata": {
    "collapsed": false
   },
   "outputs": [
    {
     "data": {
      "text/plain": [
       "277"
      ]
     },
     "execution_count": 8,
     "metadata": {},
     "output_type": "execute_result"
    }
   ],
   "source": [
    "title.str.contains('Cloud').sum()"
   ]
  },
  {
   "cell_type": "code",
   "execution_count": 9,
   "metadata": {
    "collapsed": false
   },
   "outputs": [
    {
     "data": {
      "text/plain": [
       "259"
      ]
     },
     "execution_count": 9,
     "metadata": {},
     "output_type": "execute_result"
    }
   ],
   "source": [
    "title.str.contains('Google Cloud').sum()"
   ]
  },
  {
   "cell_type": "markdown",
   "metadata": {},
   "source": [
    "So far, the cloud dominates. To proceed more systematically, I extract a list of most frequent tokens. Previous to the extraction, I clean the data deleting all the expressions within parenthesis. To get that, I use the method `str.replace` with the **regular expression** ` [(].+[)]`. \n",
    "\n",
    "Some technicalities about this regular expression: \n",
    "\n",
    "1. In a regular expression, the parentheses are used for grouping pieces of text. To refer to the parentheses temselves, I use the square brackets.\n",
    "\n",
    "2. The dot (.) stands for any character.\n",
    "\n",
    "3. The plus symbol (+) is a **quantifier**, meaning any number of occurrences."
   ]
  },
  {
   "cell_type": "code",
   "execution_count": 10,
   "metadata": {
    "collapsed": true
   },
   "outputs": [],
   "source": [
    "title_short = title.str.replace(' [(].+[)]', '')"
   ]
  },
  {
   "cell_type": "markdown",
   "metadata": {},
   "source": [
    "Now, I split the composite titles, which have two parts separated by a comma. As shown by the following code line, `str.split` returns a data frame whose elements are lists of different lengths, so I will need a workaround to get a vector."
   ]
  },
  {
   "cell_type": "code",
   "execution_count": 11,
   "metadata": {
    "collapsed": false
   },
   "outputs": [
    {
     "data": {
      "text/plain": [
       "0                       [Google Cloud Program Manager]\n",
       "1     [Supplier Development Engineer, Cable/Connector]\n",
       "2    [Data Analyst, Product and Tools Operations, G...\n",
       "3            [Developer Advocate, Partner Engineering]\n",
       "4          [Program Manager, Audio Visual Deployments]\n",
       "Name: title, dtype: object"
      ]
     },
     "execution_count": 11,
     "metadata": {},
     "output_type": "execute_result"
    }
   ],
   "source": [
    "title_short.str.split(', ').head()"
   ]
  },
  {
   "cell_type": "markdown",
   "metadata": {},
   "source": [
    "The trick is to transform `title_short` into a single list. The expression `list(set(x))` produces a list with the same elements as `x`, but without duplicates."
   ]
  },
  {
   "cell_type": "code",
   "execution_count": 12,
   "metadata": {
    "collapsed": false
   },
   "outputs": [
    {
     "data": {
      "text/plain": [
       "886"
      ]
     },
     "execution_count": 12,
     "metadata": {},
     "output_type": "execute_result"
    }
   ],
   "source": [
    "defs = list(title_short.str.split(', '))\n",
    "title_defs = defs[0]\n",
    "for x in defs[1:]:\n",
    "    title_defs = title_defs + x\n",
    "len(list(set(title_defs)))"
   ]
  },
  {
   "cell_type": "markdown",
   "metadata": {},
   "source": [
    "So, we have 886 unique title definitions. Next, I transform `title_defs` into a Pandas series, to be able to use the method `value_counts`. What do we find, in the end? That most of the jobs are for Google Cloud or for interns. The sales jobs seem to be very scattered, with many different title definitions."
   ]
  },
  {
   "cell_type": "code",
   "execution_count": 13,
   "metadata": {
    "collapsed": false
   },
   "outputs": [
    {
     "data": {
      "text/plain": [
       "Google Cloud                      206\n",
       "Summer 2018                        76\n",
       "Business Intern 2018               51\n",
       "MBA Intern                         34\n",
       "MBA Intern 2018                    32\n",
       "Google Technical Services          31\n",
       "Consumer Hardware                  27\n",
       "Field Sales Representative         26\n",
       "Google Cloud Platform              25\n",
       "Product Marketing Manager          23\n",
       "Program Manager                    22\n",
       "Account Manager                    22\n",
       "BOLD Intern                        21\n",
       "Google Marketing Solutions         20\n",
       "Associate Account Strategist       18\n",
       "YouTube                            18\n",
       "Interaction Designer               16\n",
       "Google Professional Services       15\n",
       "Software Engineer                  14\n",
       "Large Customer Sales               13\n",
       "Technical Program Manager          13\n",
       "Technical Solutions Consultant     12\n",
       "Recruiter                          12\n",
       "User Experience Researcher         11\n",
       "Google Play                        11\n",
       "dtype: int64"
      ]
     },
     "execution_count": 13,
     "metadata": {},
     "output_type": "execute_result"
    }
   ],
   "source": [
    "title_defs = pd.Series(v for v in title_defs)\n",
    "title_defs.value_counts()[:25]"
   ]
  },
  {
   "cell_type": "markdown",
   "metadata": {},
   "source": [
    "### Exploring categories\n",
    "\n",
    "I apply the same approach for categories. In the end, most of the jobs do not seem to call for techies."
   ]
  },
  {
   "cell_type": "code",
   "execution_count": 14,
   "metadata": {
    "collapsed": false
   },
   "outputs": [
    {
     "data": {
      "text/plain": [
       "Sales & Account Management          168\n",
       "Marketing & Communications          165\n",
       "Finance                             115\n",
       "Technical Solutions                 101\n",
       "Business Strategy                    98\n",
       "People Operations                    86\n",
       "User Experience & Design             84\n",
       "Program Management                   74\n",
       "Partnerships                         60\n",
       "Product & Customer Support           50\n",
       "Legal & Government Relations         46\n",
       "Administrative                       40\n",
       "Sales Operations                     31\n",
       "Software Engineering                 31\n",
       "Hardware Engineering                 26\n",
       "Real Estate & Workplace Services     25\n",
       "Manufacturing & Supply Chain         16\n",
       "Technical Infrastructure             11\n",
       "Network Engineering                   6\n",
       "Developer Relations                   5\n",
       "Technical Writing                     5\n",
       "IT & Data Management                  5\n",
       "Data Center & Network                 2\n",
       "Name: category, dtype: int64"
      ]
     },
     "execution_count": 14,
     "metadata": {},
     "output_type": "execute_result"
    }
   ],
   "source": [
    "google['category'].value_counts()"
   ]
  },
  {
   "cell_type": "markdown",
   "metadata": {},
   "source": [
    "### Exploring countries\n",
    "\n",
    "To learn in which countries the posts are located, I extract the country from the location. The location has two or three components, separated by the string ', '. So I have to drop all the characters that come before the last occurrence of that string. I use the method `str.replace` and a regular expression which stands for all the strings to be suppressed, that is, for any string ending by a comma followed by white space. "
   ]
  },
  {
   "cell_type": "code",
   "execution_count": 15,
   "metadata": {
    "collapsed": false
   },
   "outputs": [
    {
     "data": {
      "text/plain": [
       "(49,)"
      ]
     },
     "execution_count": 15,
     "metadata": {},
     "output_type": "execute_result"
    }
   ],
   "source": [
    "country = google['location'].str.replace('.+, +', '')\n",
    "country.unique().shape"
   ]
  },
  {
   "cell_type": "markdown",
   "metadata": {},
   "source": [
    "There are 49 countries but, as we see next, most of the job requests are for US."
   ]
  },
  {
   "cell_type": "code",
   "execution_count": 16,
   "metadata": {
    "collapsed": false
   },
   "outputs": [
    {
     "data": {
      "text/plain": [
       "United States     638\n",
       "Ireland            87\n",
       "United Kingdom     62\n",
       "Germany            54\n",
       "Singapore          41\n",
       "China              38\n",
       "Australia          35\n",
       "Japan              31\n",
       "Taiwan             30\n",
       "India              28\n",
       "Name: location, dtype: int64"
      ]
     },
     "execution_count": 16,
     "metadata": {},
     "output_type": "execute_result"
    }
   ],
   "source": [
    "country.value_counts()[:10]"
   ]
  },
  {
   "cell_type": "markdown",
   "metadata": {},
   "source": [
    "### Exploring responsibilities\n",
    "\n",
    "To explore the content of responsibilities column, I put first everything in **lowercase**. Since there are missing values in this field of the data base, I have to get rid of the corresponding rows before applying the method `str.lower`."
   ]
  },
  {
   "cell_type": "code",
   "execution_count": 17,
   "metadata": {
    "collapsed": false
   },
   "outputs": [
    {
     "data": {
      "text/plain": [
       "'shape, shepherd, ship, and show technical programs designed to support the work of cloud customer engineers and solutions architects.\\nmeasure and report on key metrics tied to those programs to identify any need to change course, cancel, or scale the programs from a regional to global platform.\\ncommunicate status and identify any obstacles and paths for resolution to stakeholders, including those in senior roles, in a transparent, regular, professional and timely manner.\\nestablish expectations and rationale on deliverables for stakeholders and program contributors.\\nprovide program performance feedback to teams in product, engineering, sales, and marketing (among others) to enable efficient cross-team operations.'"
      ]
     },
     "execution_count": 17,
     "metadata": {},
     "output_type": "execute_result"
    }
   ],
   "source": [
    "resp = google['responsibilities']\n",
    "resp.isnull().sum()\n",
    "resp = resp.dropna()\n",
    "resp = resp.str.lower()\n",
    "resp.iloc[0]"
   ]
  },
  {
   "cell_type": "markdown",
   "metadata": {},
   "source": [
    "Next, I extract the words. This will leave out **punctuation** and the **control character** '\\n', which means new line, and is used to separate paragraphs. I use a regular expression that stands for any word with the method `str.findall` which returns a data frame whose elements are lists of different lengths. Each of these lists is a **bag of words**. To collect all the words together I need a workaround, similar to that used for `str.split`. "
   ]
  },
  {
   "cell_type": "code",
   "execution_count": 18,
   "metadata": {
    "collapsed": false
   },
   "outputs": [
    {
     "data": {
      "text/plain": [
       "['shape',\n",
       " 'shepherd',\n",
       " 'ship',\n",
       " 'and',\n",
       " 'show',\n",
       " 'technical',\n",
       " 'programs',\n",
       " 'designed',\n",
       " 'to',\n",
       " 'support']"
      ]
     },
     "execution_count": 18,
     "metadata": {},
     "output_type": "execute_result"
    }
   ],
   "source": [
    "terms = resp.str.findall('[a-z]+')\n",
    "terms[0][:10]"
   ]
  },
  {
   "cell_type": "code",
   "execution_count": 19,
   "metadata": {
    "collapsed": false
   },
   "outputs": [
    {
     "data": {
      "text/plain": [
       "3824"
      ]
     },
     "execution_count": 19,
     "metadata": {},
     "output_type": "execute_result"
    }
   ],
   "source": [
    "resp_terms = terms[0]\n",
    "for x in terms[1:]:\n",
    "    resp_terms = resp_terms + x\n",
    "len(list(set(resp_terms)))"
   ]
  },
  {
   "cell_type": "code",
   "execution_count": 20,
   "metadata": {
    "collapsed": false
   },
   "outputs": [
    {
     "data": {
      "text/plain": [
       "and          9457\n",
       "to           4303\n",
       "the          2668\n",
       "of           2233\n",
       "with         2182\n",
       "for          1372\n",
       "google       1292\n",
       "in           1247\n",
       "business     1218\n",
       "a            1185\n",
       "product       968\n",
       "on            870\n",
       "develop       779\n",
       "teams         768\n",
       "work          755\n",
       "as            712\n",
       "team          660\n",
       "partners      633\n",
       "technical     606\n",
       "manage        596\n",
       "customer      561\n",
       "our           536\n",
       "that          517\n",
       "partner       516\n",
       "support       489\n",
       "dtype: int64"
      ]
     },
     "execution_count": 20,
     "metadata": {},
     "output_type": "execute_result"
    }
   ],
   "source": [
    "resp_terms = pd.Series(v for v in resp_terms)\n",
    "resp_terms.value_counts()[:25]"
   ]
  },
  {
   "cell_type": "markdown",
   "metadata": {},
   "source": [
    "Most of these terms are **stopwords**, that is, words that do not contain relevant information (and, to, the, etc). The leading topics seem to be development, teams and partners. To get a better picture, I should continue the analysis by dropping the stopwords and merging **synonyms** (such as \"team\" and \"teams\"). I stop here.\n",
    "\n",
    "### Exploring minimum qualifications\n",
    "\n",
    "The analysis of the minimum qualifications follows the same lines."
   ]
  },
  {
   "cell_type": "code",
   "execution_count": 21,
   "metadata": {
    "collapsed": false
   },
   "outputs": [
    {
     "data": {
      "text/plain": [
       "'ba/bs degree or equivalent practical experience.\\n3 years of experience in program and/or project management in cloud computing, enterprise software and/or marketing technologies.'"
      ]
     },
     "execution_count": 21,
     "metadata": {},
     "output_type": "execute_result"
    }
   ],
   "source": [
    "minqual = google['minqual']\n",
    "minqual.isnull().sum()\n",
    "minqual = minqual.dropna()\n",
    "minqual = minqual.str.lower()\n",
    "minqual.iloc[0]"
   ]
  },
  {
   "cell_type": "code",
   "execution_count": 22,
   "metadata": {
    "collapsed": false
   },
   "outputs": [
    {
     "data": {
      "text/plain": [
       "1920"
      ]
     },
     "execution_count": 22,
     "metadata": {},
     "output_type": "execute_result"
    }
   ],
   "source": [
    "terms = minqual.str.findall('[a-z]+')\n",
    "minqual_terms = terms[0]\n",
    "for x in terms[1:]:\n",
    "    minqual_terms = minqual_terms + x\n",
    "len(list(set(minqual_terms)))"
   ]
  },
  {
   "cell_type": "code",
   "execution_count": 23,
   "metadata": {
    "collapsed": false
   },
   "outputs": [
    {
     "data": {
      "text/plain": [
       "experience    3036\n",
       "or            2478\n",
       "in            2400\n",
       "and           2304\n",
       "a             1231\n",
       "of            1110\n",
       "equivalent    1063\n",
       "degree        1059\n",
       "practical      993\n",
       "to             928\n",
       "bs             879\n",
       "ba             838\n",
       "years          722\n",
       "with           718\n",
       "the            611\n",
       "management     413\n",
       "ability        363\n",
       "field          341\n",
       "related        321\n",
       "working        313\n",
       "program        305\n",
       "as             292\n",
       "english        286\n",
       "speak          281\n",
       "fluently       280\n",
       "dtype: int64"
      ]
     },
     "execution_count": 23,
     "metadata": {},
     "output_type": "execute_result"
    }
   ],
   "source": [
    "minqual_terms = pd.Series(v for v in minqual_terms)\n",
    "minqual_terms.value_counts()[:25]"
   ]
  },
  {
   "cell_type": "markdown",
   "metadata": {},
   "source": [
    "Bad news here for the starters, experience is the main thing. I check how often are mentioned the leading programming languages. Not much."
   ]
  },
  {
   "cell_type": "code",
   "execution_count": 24,
   "metadata": {
    "collapsed": false
   },
   "outputs": [
    {
     "data": {
      "text/plain": [
       "85"
      ]
     },
     "execution_count": 24,
     "metadata": {},
     "output_type": "execute_result"
    }
   ],
   "source": [
    "minqual_terms.str.contains('sql').sum()"
   ]
  },
  {
   "cell_type": "code",
   "execution_count": 25,
   "metadata": {
    "collapsed": false
   },
   "outputs": [
    {
     "data": {
      "text/plain": [
       "77"
      ]
     },
     "execution_count": 25,
     "metadata": {},
     "output_type": "execute_result"
    }
   ],
   "source": [
    "minqual_terms.str.contains('javascript').sum()"
   ]
  },
  {
   "cell_type": "code",
   "execution_count": 26,
   "metadata": {
    "collapsed": false
   },
   "outputs": [
    {
     "data": {
      "text/plain": [
       "97"
      ]
     },
     "execution_count": 26,
     "metadata": {},
     "output_type": "execute_result"
    }
   ],
   "source": [
    "minqual_terms.str.contains('python').sum()"
   ]
  },
  {
   "cell_type": "markdown",
   "metadata": {},
   "source": [
    "### Exploring preferred qualifications\n",
    "\n",
    "I replicate the analysis for the preferred qualifications."
   ]
  },
  {
   "cell_type": "code",
   "execution_count": 27,
   "metadata": {
    "collapsed": false
   },
   "outputs": [
    {
     "data": {
      "text/plain": [
       "'experience in the business technology market as a program manager in saas, cloud computing, and/or emerging technologies.\\nsignificant cross-functional experience across engineering, sales, and marketing teams in cloud computing or related technical fields.\\nproven successful program outcomes from idea to launch in multiple contexts throughout your career.\\nability to manage the expectations, demands and priorities of multiple internal stakeholders based on overarching vision and success for global team health.\\nability to work under pressure and possess flexibility with changing needs and direction in a rapidly-growing organization.\\nstrong organization and communication skills.'"
      ]
     },
     "execution_count": 27,
     "metadata": {},
     "output_type": "execute_result"
    }
   ],
   "source": [
    "prefqual = google['prefqual']\n",
    "prefqual.isnull().sum()\n",
    "prefqual = prefqual.dropna()\n",
    "prefqual = prefqual.str.lower()\n",
    "prefqual.iloc[0]"
   ]
  },
  {
   "cell_type": "code",
   "execution_count": 28,
   "metadata": {
    "collapsed": false
   },
   "outputs": [
    {
     "data": {
      "text/plain": [
       "3205"
      ]
     },
     "execution_count": 28,
     "metadata": {},
     "output_type": "execute_result"
    }
   ],
   "source": [
    "terms = prefqual.str.findall('[a-z]+')\n",
    "prefqual_terms = terms[0]\n",
    "for x in terms[1:]:\n",
    "    prefqual_terms = prefqual_terms + x\n",
    "len(list(set(prefqual_terms)))"
   ]
  },
  {
   "cell_type": "code",
   "execution_count": 29,
   "metadata": {
    "collapsed": false
   },
   "outputs": [
    {
     "data": {
      "text/plain": [
       "and              6496\n",
       "to               2991\n",
       "in               2501\n",
       "with             2419\n",
       "experience       2308\n",
       "ability          1856\n",
       "of               1655\n",
       "a                1654\n",
       "skills           1461\n",
       "or               1432\n",
       "the              1379\n",
       "management        720\n",
       "business          680\n",
       "demonstrated      640\n",
       "as                582\n",
       "excellent         570\n",
       "work              549\n",
       "communication     546\n",
       "environment       520\n",
       "technical         476\n",
       "strong            472\n",
       "analytical        446\n",
       "working           440\n",
       "cloud             395\n",
       "data              394\n",
       "dtype: int64"
      ]
     },
     "execution_count": 29,
     "metadata": {},
     "output_type": "execute_result"
    }
   ],
   "source": [
    "prefqual_terms = pd.Series(v for v in prefqual_terms)\n",
    "prefqual_terms.value_counts()[:25]"
   ]
  },
  {
   "cell_type": "code",
   "execution_count": 30,
   "metadata": {
    "collapsed": false
   },
   "outputs": [
    {
     "data": {
      "text/plain": [
       "84"
      ]
     },
     "execution_count": 30,
     "metadata": {},
     "output_type": "execute_result"
    }
   ],
   "source": [
    "prefqual_terms.str.contains('sql').sum()"
   ]
  },
  {
   "cell_type": "code",
   "execution_count": 31,
   "metadata": {
    "collapsed": false
   },
   "outputs": [
    {
     "data": {
      "text/plain": [
       "66"
      ]
     },
     "execution_count": 31,
     "metadata": {},
     "output_type": "execute_result"
    }
   ],
   "source": [
    "prefqual_terms.str.contains('javascript').sum()"
   ]
  },
  {
   "cell_type": "code",
   "execution_count": 32,
   "metadata": {
    "collapsed": false
   },
   "outputs": [
    {
     "data": {
      "text/plain": [
       "79"
      ]
     },
     "execution_count": 32,
     "metadata": {},
     "output_type": "execute_result"
    }
   ],
   "source": [
    "prefqual_terms.str.contains('python').sum()"
   ]
  }
 ],
 "metadata": {
  "kernelspec": {
   "display_name": "Python 3",
   "language": "python",
   "name": "python3"
  },
  "language_info": {
   "codemirror_mode": {
    "name": "ipython",
    "version": 3
   },
   "file_extension": ".py",
   "mimetype": "text/x-python",
   "name": "python",
   "nbconvert_exporter": "python",
   "pygments_lexer": "ipython3",
   "version": "3.6.6"
  }
 },
 "nbformat": 4,
 "nbformat_minor": 2
}
